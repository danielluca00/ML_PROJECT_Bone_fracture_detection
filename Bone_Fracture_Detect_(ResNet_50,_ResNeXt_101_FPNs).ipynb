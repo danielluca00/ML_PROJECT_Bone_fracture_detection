{
  "metadata": {
    "kernelspec": {
      "language": "python",
      "display_name": "Python 3",
      "name": "python3"
    },
    "language_info": {
      "name": "python",
      "version": "3.10.12",
      "mimetype": "text/x-python",
      "codemirror_mode": {
        "name": "ipython",
        "version": 3
      },
      "pygments_lexer": "ipython3",
      "nbconvert_exporter": "python",
      "file_extension": ".py"
    },
    "kaggle": {
      "accelerator": "gpu",
      "dataSources": [
        {
          "sourceId": 7391382,
          "sourceType": "datasetVersion",
          "datasetId": 4296838
        },
        {
          "sourceId": 7399564,
          "sourceType": "datasetVersion",
          "datasetId": 4302508
        }
      ],
      "dockerImageVersionId": 30636,
      "isInternetEnabled": true,
      "language": "python",
      "sourceType": "notebook",
      "isGpuEnabled": true
    },
    "colab": {
      "name": "Bone Fracture Detect (ResNet-50, ResNeXt 101 FPNs)",
      "provenance": [],
      "include_colab_link": true
    }
  },
  "nbformat_minor": 0,
  "nbformat": 4,
  "cells": [
    {
      "cell_type": "markdown",
      "metadata": {
        "id": "view-in-github",
        "colab_type": "text"
      },
      "source": [
        "<a href=\"https://colab.research.google.com/github/danielluca00/ML_PROJECT_Bone_fracture_detection/blob/main/Bone_Fracture_Detect_(ResNet_50%2C_ResNeXt_101_FPNs).ipynb\" target=\"_parent\"><img src=\"https://colab.research.google.com/assets/colab-badge.svg\" alt=\"Open In Colab\"/></a>"
      ]
    },
    {
      "source": [
        "# IMPORTANT: RUN THIS CELL IN ORDER TO IMPORT YOUR KAGGLE DATA SOURCES,\n",
        "# THEN FEEL FREE TO DELETE THIS CELL.\n",
        "# NOTE: THIS NOTEBOOK ENVIRONMENT DIFFERS FROM KAGGLE'S PYTHON\n",
        "# ENVIRONMENT SO THERE MAY BE MISSING LIBRARIES USED BY YOUR\n",
        "# NOTEBOOK.\n",
        "import kagglehub\n",
        "pkdarabi_bone_fracture_detection_computer_vision_project_path = kagglehub.dataset_download('pkdarabi/bone-fracture-detection-computer-vision-project')\n",
        "banddaniel_bone_fracture_detection_detection_coco_annots_path = kagglehub.dataset_download('banddaniel/bone-fracture-detection-detection-coco-annots')\n",
        "\n",
        "print('Data source import complete.')\n"
      ],
      "metadata": {
        "id": "s5TKOeOZeyl5",
        "outputId": "c79b9fca-e971-48c1-f712-da58d3b021a8",
        "colab": {
          "base_uri": "https://localhost:8080/"
        }
      },
      "cell_type": "code",
      "outputs": [
        {
          "output_type": "stream",
          "name": "stdout",
          "text": [
            "Warning: Looks like you're using an outdated `kagglehub` version (installed: 0.3.9), please consider upgrading to the latest version (0.3.10).\n",
            "Downloading from https://www.kaggle.com/api/v1/datasets/download/pkdarabi/bone-fracture-detection-computer-vision-project?dataset_version_number=2...\n"
          ]
        },
        {
          "output_type": "stream",
          "name": "stderr",
          "text": [
            "100%|██████████| 84.1M/84.1M [00:01<00:00, 78.0MB/s]"
          ]
        },
        {
          "output_type": "stream",
          "name": "stdout",
          "text": [
            "Extracting files...\n"
          ]
        },
        {
          "output_type": "stream",
          "name": "stderr",
          "text": [
            "\n"
          ]
        },
        {
          "output_type": "stream",
          "name": "stdout",
          "text": [
            "Warning: Looks like you're using an outdated `kagglehub` version (installed: 0.3.9), please consider upgrading to the latest version (0.3.10).\n",
            "Downloading from https://www.kaggle.com/api/v1/datasets/download/banddaniel/bone-fracture-detection-detection-coco-annots?dataset_version_number=1...\n"
          ]
        },
        {
          "output_type": "stream",
          "name": "stderr",
          "text": [
            "100%|██████████| 259k/259k [00:00<00:00, 72.9MB/s]"
          ]
        },
        {
          "output_type": "stream",
          "name": "stdout",
          "text": [
            "Extracting files...\n",
            "Data source import complete.\n"
          ]
        },
        {
          "output_type": "stream",
          "name": "stderr",
          "text": [
            "\n"
          ]
        }
      ],
      "execution_count": 1
    },
    {
      "cell_type": "markdown",
      "source": [
        "* <i>(First Model) <b>Faster R-CNN with ResNeXt 101 Feature Pyramid Network</b> from detectron2 [1,2],</i>\n",
        "* <i>(Second Model) <b>Faster R-CNN with ResNet-50 Feature Pyramid Network</b> from detectron2 [1,2],</i>\n",
        "\n",
        "I have used the following methods.\n",
        "\n",
        "* I have modified the official notebook [3],\n",
        "* I downloaded COCO json files [4],\n",
        "\n",
        "\n",
        "## My Another Projects\n",
        "\n",
        "* [Power Forecasting w/Online Learning (River)](https://www.kaggle.com/code/banddaniel/power-forecasting-w-online-learning-river)\n",
        "* [Lung Segmentation UNet w/SeparableConv (Dice:0.93)](https://www.kaggle.com/code/banddaniel/lung-segmentation-unet-w-separableconv-dice-0-93)\n",
        "* [Smoking Detection w/Online Learning (River)](https://www.kaggle.com/code/banddaniel/smoking-detection-w-online-learning-river)\n",
        "\n",
        "\n",
        "## References\n",
        "1. Ren, S., He, K., Girshick, R., & Sun, J. (2015). Faster R-CNN: Towards Real-Time Object Detection with Region Proposal Networks (Version 3). arXiv. https://doi.org/10.48550/ARXIV.1506.01497\n",
        "2. https://detectron2.readthedocs.io/en/latest/\n",
        "3. https://colab.research.google.com/drive/16jcaJoc6bCFAQ96jDe2HwtXj7BMD_-m5\n",
        "4. https://universe.roboflow.com/veda/bone-fracture-detection-daoon"
      ],
      "metadata": {
        "id": "ztd3SN0neyl8"
      }
    },
    {
      "cell_type": "code",
      "source": [
        "import sys, os, distutils.core\n",
        "from IPython.display import clear_output\n",
        "\n",
        "!python -m pip install pyyaml==5.1\n",
        "!git clone 'https://github.com/facebookresearch/detectron2'\n",
        "dist = distutils.core.run_setup(\"./detectron2/setup.py\")\n",
        "!python -m pip install {' '.join([f\"'{x}'\" for x in dist.install_requires])}\n",
        "sys.path.insert(0, os.path.abspath('./detectron2'))\n",
        "clear_output()"
      ],
      "metadata": {
        "execution": {
          "iopub.status.busy": "2024-01-14T10:50:15.524834Z",
          "iopub.execute_input": "2024-01-14T10:50:15.525678Z",
          "iopub.status.idle": "2024-01-14T10:50:44.000036Z",
          "shell.execute_reply.started": "2024-01-14T10:50:15.525645Z",
          "shell.execute_reply": "2024-01-14T10:50:43.99881Z"
        },
        "collapsed": true,
        "jupyter": {
          "outputs_hidden": true
        },
        "trusted": true,
        "id": "Q8a4BtFAeyl-"
      },
      "execution_count": 2,
      "outputs": []
    },
    {
      "cell_type": "code",
      "source": [
        "# Importing dependencies\n",
        "\n",
        "import torch, detectron2\n",
        "from detectron2.utils.logger import setup_logger\n",
        "setup_logger()\n",
        "print(\"detectron2 version:\", detectron2.__version__)\n",
        "\n",
        "import numpy as np\n",
        "import os, json, cv2, random\n",
        "from IPython import display\n",
        "import PIL\n",
        "import matplotlib.pyplot as plt\n",
        "\n",
        "# importing detectron2 utilities\n",
        "from detectron2 import model_zoo\n",
        "from detectron2.engine import DefaultPredictor\n",
        "from detectron2.config import get_cfg\n",
        "from detectron2.utils.visualizer import Visualizer\n",
        "from detectron2.data import MetadataCatalog, DatasetCatalog\n",
        "\n",
        "\n",
        "SEED = 9\n",
        "THRESHOLD = 0.3"
      ],
      "metadata": {
        "execution": {
          "iopub.status.busy": "2024-01-14T10:50:44.001922Z",
          "iopub.execute_input": "2024-01-14T10:50:44.002585Z",
          "iopub.status.idle": "2024-01-14T10:50:45.133481Z",
          "shell.execute_reply.started": "2024-01-14T10:50:44.002554Z",
          "shell.execute_reply": "2024-01-14T10:50:45.132694Z"
        },
        "trusted": true,
        "id": "jD7I8uNUeyl_",
        "outputId": "c6e9aa12-8959-4740-d625-0401a465a774",
        "colab": {
          "base_uri": "https://localhost:8080/"
        }
      },
      "execution_count": 3,
      "outputs": [
        {
          "output_type": "stream",
          "name": "stdout",
          "text": [
            "detectron2 version: 0.6\n"
          ]
        }
      ]
    },
    {
      "cell_type": "code",
      "source": [
        "# Creating coco instances\n",
        "\n",
        "from detectron2.data.datasets import register_coco_instances\n",
        "from detectron2.structures import BoxMode\n",
        "\n",
        "for d in [\"train\", \"valid\", \"test\"]:\n",
        "    register_coco_instances(f\"bone_fractures_{d}\", {},\n",
        "                            f\"../input/bone-fracture-detection-detection-coco-annots/{d}_annotations.coco.json\",\n",
        "                            f\"../input/bone-fracture-detection-computer-vision-project/{d}/images\")"
      ],
      "metadata": {
        "execution": {
          "iopub.status.busy": "2024-01-14T10:51:02.944607Z",
          "iopub.execute_input": "2024-01-14T10:51:02.945393Z",
          "iopub.status.idle": "2024-01-14T10:51:02.950697Z",
          "shell.execute_reply.started": "2024-01-14T10:51:02.94536Z",
          "shell.execute_reply": "2024-01-14T10:51:02.949632Z"
        },
        "trusted": true,
        "id": "XqP4Nf9DeymA"
      },
      "execution_count": 6,
      "outputs": []
    },
    {
      "cell_type": "code",
      "source": [
        "# Examples from the training dataset\n",
        "\n",
        "import random\n",
        "from detectron2.utils.visualizer import Visualizer\n",
        "\n",
        "my_dataset_train_metadata = MetadataCatalog.get(\"bone_fractures_train\")\n",
        "train_dataset_dicts = DatasetCatalog.get(\"bone_fractures_train\")\n",
        "\n",
        "# A function that creates examples from the dataset\n",
        "def create_random_images(dataset_dict,dataset_metadata, seed, image_scale = 0.7):\n",
        "    np.random.seed(seed)\n",
        "    images = np.random.permutation(dataset_dict)[:2]\n",
        "\n",
        "    fig, axs = plt.subplots(1,2, figsize = (12,6), dpi = 100)\n",
        "    for i in range(2):\n",
        "        im = images[i]\n",
        "        img_link = im['file_name']\n",
        "        img_id = im['image_id']\n",
        "        img = cv2.imread(img_link)\n",
        "        img = cv2.cvtColor(img,cv2.COLOR_BGR2RGB)\n",
        "        visualizer = Visualizer(img, metadata= dataset_metadata, scale=image_scale)\n",
        "        vis = visualizer.draw_dataset_dict(im)\n",
        "        final_img = vis.get_image()\n",
        "\n",
        "        axs[i].set_title('image id: ' + str(img_id), fontsize = 10)\n",
        "        axs[i].axis('off')\n",
        "        axs[i].imshow(final_img)"
      ],
      "metadata": {
        "execution": {
          "iopub.status.busy": "2024-01-14T10:51:04.938164Z",
          "iopub.execute_input": "2024-01-14T10:51:04.939106Z",
          "iopub.status.idle": "2024-01-14T10:51:05.016652Z",
          "shell.execute_reply.started": "2024-01-14T10:51:04.939073Z",
          "shell.execute_reply": "2024-01-14T10:51:05.015949Z"
        },
        "trusted": true,
        "id": "uRrA4HwSeymA",
        "outputId": "69bd5251-630e-427f-dae9-e30d3866dc26",
        "colab": {
          "base_uri": "https://localhost:8080/",
          "height": 356
        }
      },
      "execution_count": 7,
      "outputs": [
        {
          "output_type": "error",
          "ename": "FileNotFoundError",
          "evalue": "[Errno 2] No such file or directory: '../input/bone-fracture-detection-detection-coco-annots/train_annotations.coco.json'",
          "traceback": [
            "\u001b[0;31m---------------------------------------------------------------------------\u001b[0m",
            "\u001b[0;31mFileNotFoundError\u001b[0m                         Traceback (most recent call last)",
            "\u001b[0;32m<ipython-input-7-e08bee449c24>\u001b[0m in \u001b[0;36m<cell line: 0>\u001b[0;34m()\u001b[0m\n\u001b[1;32m      5\u001b[0m \u001b[0;34m\u001b[0m\u001b[0m\n\u001b[1;32m      6\u001b[0m \u001b[0mmy_dataset_train_metadata\u001b[0m \u001b[0;34m=\u001b[0m \u001b[0mMetadataCatalog\u001b[0m\u001b[0;34m.\u001b[0m\u001b[0mget\u001b[0m\u001b[0;34m(\u001b[0m\u001b[0;34m\"bone_fractures_train\"\u001b[0m\u001b[0;34m)\u001b[0m\u001b[0;34m\u001b[0m\u001b[0;34m\u001b[0m\u001b[0m\n\u001b[0;32m----> 7\u001b[0;31m \u001b[0mtrain_dataset_dicts\u001b[0m \u001b[0;34m=\u001b[0m \u001b[0mDatasetCatalog\u001b[0m\u001b[0;34m.\u001b[0m\u001b[0mget\u001b[0m\u001b[0;34m(\u001b[0m\u001b[0;34m\"bone_fractures_train\"\u001b[0m\u001b[0;34m)\u001b[0m\u001b[0;34m\u001b[0m\u001b[0;34m\u001b[0m\u001b[0m\n\u001b[0m\u001b[1;32m      8\u001b[0m \u001b[0;34m\u001b[0m\u001b[0m\n\u001b[1;32m      9\u001b[0m \u001b[0;31m# A function that creates examples from the dataset\u001b[0m\u001b[0;34m\u001b[0m\u001b[0;34m\u001b[0m\u001b[0m\n",
            "\u001b[0;32m/content/detectron2/detectron2/data/catalog.py\u001b[0m in \u001b[0;36mget\u001b[0;34m(self, name)\u001b[0m\n\u001b[1;32m     56\u001b[0m                 )\n\u001b[1;32m     57\u001b[0m             ) from e\n\u001b[0;32m---> 58\u001b[0;31m         \u001b[0;32mreturn\u001b[0m \u001b[0mf\u001b[0m\u001b[0;34m(\u001b[0m\u001b[0;34m)\u001b[0m\u001b[0;34m\u001b[0m\u001b[0;34m\u001b[0m\u001b[0m\n\u001b[0m\u001b[1;32m     59\u001b[0m \u001b[0;34m\u001b[0m\u001b[0m\n\u001b[1;32m     60\u001b[0m     \u001b[0;32mdef\u001b[0m \u001b[0mlist\u001b[0m\u001b[0;34m(\u001b[0m\u001b[0mself\u001b[0m\u001b[0;34m)\u001b[0m \u001b[0;34m->\u001b[0m \u001b[0mList\u001b[0m\u001b[0;34m[\u001b[0m\u001b[0mstr\u001b[0m\u001b[0;34m]\u001b[0m\u001b[0;34m:\u001b[0m\u001b[0;34m\u001b[0m\u001b[0;34m\u001b[0m\u001b[0m\n",
            "\u001b[0;32m/content/detectron2/detectron2/data/datasets/coco.py\u001b[0m in \u001b[0;36m<lambda>\u001b[0;34m()\u001b[0m\n\u001b[1;32m    509\u001b[0m     \u001b[0;31m# 1. register a function which returns dicts\u001b[0m\u001b[0;34m\u001b[0m\u001b[0;34m\u001b[0m\u001b[0m\n\u001b[1;32m    510\u001b[0m     \u001b[0;32mif\u001b[0m \u001b[0mname\u001b[0m \u001b[0;32mnot\u001b[0m \u001b[0;32min\u001b[0m \u001b[0mDatasetCatalog\u001b[0m\u001b[0;34m:\u001b[0m\u001b[0;34m\u001b[0m\u001b[0;34m\u001b[0m\u001b[0m\n\u001b[0;32m--> 511\u001b[0;31m         \u001b[0mDatasetCatalog\u001b[0m\u001b[0;34m.\u001b[0m\u001b[0mregister\u001b[0m\u001b[0;34m(\u001b[0m\u001b[0mname\u001b[0m\u001b[0;34m,\u001b[0m \u001b[0;32mlambda\u001b[0m\u001b[0;34m:\u001b[0m \u001b[0mload_coco_json\u001b[0m\u001b[0;34m(\u001b[0m\u001b[0mjson_file\u001b[0m\u001b[0;34m,\u001b[0m \u001b[0mimage_root\u001b[0m\u001b[0;34m,\u001b[0m \u001b[0mname\u001b[0m\u001b[0;34m)\u001b[0m\u001b[0;34m)\u001b[0m\u001b[0;34m\u001b[0m\u001b[0;34m\u001b[0m\u001b[0m\n\u001b[0m\u001b[1;32m    512\u001b[0m \u001b[0;34m\u001b[0m\u001b[0m\n\u001b[1;32m    513\u001b[0m     \u001b[0;31m# 2. Optionally, add metadata about this dataset,\u001b[0m\u001b[0;34m\u001b[0m\u001b[0;34m\u001b[0m\u001b[0m\n",
            "\u001b[0;32m/content/detectron2/detectron2/data/datasets/coco.py\u001b[0m in \u001b[0;36mload_coco_json\u001b[0;34m(json_file, image_root, dataset_name, extra_annotation_keys)\u001b[0m\n\u001b[1;32m     72\u001b[0m     \u001b[0mjson_file\u001b[0m \u001b[0;34m=\u001b[0m \u001b[0mPathManager\u001b[0m\u001b[0;34m.\u001b[0m\u001b[0mget_local_path\u001b[0m\u001b[0;34m(\u001b[0m\u001b[0mjson_file\u001b[0m\u001b[0;34m)\u001b[0m\u001b[0;34m\u001b[0m\u001b[0;34m\u001b[0m\u001b[0m\n\u001b[1;32m     73\u001b[0m     \u001b[0;32mwith\u001b[0m \u001b[0mcontextlib\u001b[0m\u001b[0;34m.\u001b[0m\u001b[0mredirect_stdout\u001b[0m\u001b[0;34m(\u001b[0m\u001b[0mio\u001b[0m\u001b[0;34m.\u001b[0m\u001b[0mStringIO\u001b[0m\u001b[0;34m(\u001b[0m\u001b[0;34m)\u001b[0m\u001b[0;34m)\u001b[0m\u001b[0;34m:\u001b[0m\u001b[0;34m\u001b[0m\u001b[0;34m\u001b[0m\u001b[0m\n\u001b[0;32m---> 74\u001b[0;31m         \u001b[0mcoco_api\u001b[0m \u001b[0;34m=\u001b[0m \u001b[0mCOCO\u001b[0m\u001b[0;34m(\u001b[0m\u001b[0mjson_file\u001b[0m\u001b[0;34m)\u001b[0m\u001b[0;34m\u001b[0m\u001b[0;34m\u001b[0m\u001b[0m\n\u001b[0m\u001b[1;32m     75\u001b[0m     \u001b[0;32mif\u001b[0m \u001b[0mtimer\u001b[0m\u001b[0;34m.\u001b[0m\u001b[0mseconds\u001b[0m\u001b[0;34m(\u001b[0m\u001b[0;34m)\u001b[0m \u001b[0;34m>\u001b[0m \u001b[0;36m1\u001b[0m\u001b[0;34m:\u001b[0m\u001b[0;34m\u001b[0m\u001b[0;34m\u001b[0m\u001b[0m\n\u001b[1;32m     76\u001b[0m         \u001b[0mlogger\u001b[0m\u001b[0;34m.\u001b[0m\u001b[0minfo\u001b[0m\u001b[0;34m(\u001b[0m\u001b[0;34m\"Loading {} takes {:.2f} seconds.\"\u001b[0m\u001b[0;34m.\u001b[0m\u001b[0mformat\u001b[0m\u001b[0;34m(\u001b[0m\u001b[0mjson_file\u001b[0m\u001b[0;34m,\u001b[0m \u001b[0mtimer\u001b[0m\u001b[0;34m.\u001b[0m\u001b[0mseconds\u001b[0m\u001b[0;34m(\u001b[0m\u001b[0;34m)\u001b[0m\u001b[0;34m)\u001b[0m\u001b[0;34m)\u001b[0m\u001b[0;34m\u001b[0m\u001b[0;34m\u001b[0m\u001b[0m\n",
            "\u001b[0;32m/usr/local/lib/python3.11/dist-packages/pycocotools/coco.py\u001b[0m in \u001b[0;36m__init__\u001b[0;34m(self, annotation_file)\u001b[0m\n\u001b[1;32m     79\u001b[0m             \u001b[0mprint\u001b[0m\u001b[0;34m(\u001b[0m\u001b[0;34m'loading annotations into memory...'\u001b[0m\u001b[0;34m)\u001b[0m\u001b[0;34m\u001b[0m\u001b[0;34m\u001b[0m\u001b[0m\n\u001b[1;32m     80\u001b[0m             \u001b[0mtic\u001b[0m \u001b[0;34m=\u001b[0m \u001b[0mtime\u001b[0m\u001b[0;34m.\u001b[0m\u001b[0mtime\u001b[0m\u001b[0;34m(\u001b[0m\u001b[0;34m)\u001b[0m\u001b[0;34m\u001b[0m\u001b[0;34m\u001b[0m\u001b[0m\n\u001b[0;32m---> 81\u001b[0;31m             \u001b[0;32mwith\u001b[0m \u001b[0mopen\u001b[0m\u001b[0;34m(\u001b[0m\u001b[0mannotation_file\u001b[0m\u001b[0;34m,\u001b[0m \u001b[0;34m'r'\u001b[0m\u001b[0;34m)\u001b[0m \u001b[0;32mas\u001b[0m \u001b[0mf\u001b[0m\u001b[0;34m:\u001b[0m\u001b[0;34m\u001b[0m\u001b[0;34m\u001b[0m\u001b[0m\n\u001b[0m\u001b[1;32m     82\u001b[0m                 \u001b[0mdataset\u001b[0m \u001b[0;34m=\u001b[0m \u001b[0mjson\u001b[0m\u001b[0;34m.\u001b[0m\u001b[0mload\u001b[0m\u001b[0;34m(\u001b[0m\u001b[0mf\u001b[0m\u001b[0;34m)\u001b[0m\u001b[0;34m\u001b[0m\u001b[0;34m\u001b[0m\u001b[0m\n\u001b[1;32m     83\u001b[0m             \u001b[0;32massert\u001b[0m \u001b[0mtype\u001b[0m\u001b[0;34m(\u001b[0m\u001b[0mdataset\u001b[0m\u001b[0;34m)\u001b[0m\u001b[0;34m==\u001b[0m\u001b[0mdict\u001b[0m\u001b[0;34m,\u001b[0m \u001b[0;34m'annotation file format {} not supported'\u001b[0m\u001b[0;34m.\u001b[0m\u001b[0mformat\u001b[0m\u001b[0;34m(\u001b[0m\u001b[0mtype\u001b[0m\u001b[0;34m(\u001b[0m\u001b[0mdataset\u001b[0m\u001b[0;34m)\u001b[0m\u001b[0;34m)\u001b[0m\u001b[0;34m\u001b[0m\u001b[0;34m\u001b[0m\u001b[0m\n",
            "\u001b[0;31mFileNotFoundError\u001b[0m: [Errno 2] No such file or directory: '../input/bone-fracture-detection-detection-coco-annots/train_annotations.coco.json'"
          ]
        }
      ]
    },
    {
      "cell_type": "code",
      "source": [
        "create_random_images(train_dataset_dicts, my_dataset_train_metadata, seed = 5 , image_scale = 1)\n",
        "create_random_images(train_dataset_dicts, my_dataset_train_metadata, seed = 9 , image_scale = 1)"
      ],
      "metadata": {
        "trusted": true,
        "id": "59iIk1VmeymA",
        "outputId": "31f653cf-e087-4ec4-92a9-1daa6d7aab82",
        "colab": {
          "base_uri": "https://localhost:8080/",
          "height": 158
        }
      },
      "execution_count": 9,
      "outputs": [
        {
          "output_type": "error",
          "ename": "NameError",
          "evalue": "name 'create_random_images' is not defined",
          "traceback": [
            "\u001b[0;31m---------------------------------------------------------------------------\u001b[0m",
            "\u001b[0;31mNameError\u001b[0m                                 Traceback (most recent call last)",
            "\u001b[0;32m<ipython-input-9-973e2bd652f2>\u001b[0m in \u001b[0;36m<cell line: 0>\u001b[0;34m()\u001b[0m\n\u001b[0;32m----> 1\u001b[0;31m \u001b[0mcreate_random_images\u001b[0m\u001b[0;34m(\u001b[0m\u001b[0mtrain_dataset_dicts\u001b[0m\u001b[0;34m,\u001b[0m \u001b[0mmy_dataset_train_metadata\u001b[0m\u001b[0;34m,\u001b[0m \u001b[0mseed\u001b[0m \u001b[0;34m=\u001b[0m \u001b[0;36m5\u001b[0m \u001b[0;34m,\u001b[0m \u001b[0mimage_scale\u001b[0m \u001b[0;34m=\u001b[0m \u001b[0;36m1\u001b[0m\u001b[0;34m)\u001b[0m\u001b[0;34m\u001b[0m\u001b[0;34m\u001b[0m\u001b[0m\n\u001b[0m\u001b[1;32m      2\u001b[0m \u001b[0mcreate_random_images\u001b[0m\u001b[0;34m(\u001b[0m\u001b[0mtrain_dataset_dicts\u001b[0m\u001b[0;34m,\u001b[0m \u001b[0mmy_dataset_train_metadata\u001b[0m\u001b[0;34m,\u001b[0m \u001b[0mseed\u001b[0m \u001b[0;34m=\u001b[0m \u001b[0;36m9\u001b[0m \u001b[0;34m,\u001b[0m \u001b[0mimage_scale\u001b[0m \u001b[0;34m=\u001b[0m \u001b[0;36m1\u001b[0m\u001b[0;34m)\u001b[0m\u001b[0;34m\u001b[0m\u001b[0;34m\u001b[0m\u001b[0m\n",
            "\u001b[0;31mNameError\u001b[0m: name 'create_random_images' is not defined"
          ]
        }
      ]
    },
    {
      "cell_type": "markdown",
      "source": [
        "# <span style=\"color:#e74c3c;\">Faster R-CNN w/ResNeXt 101 FPN </span> Model, Training"
      ],
      "metadata": {
        "id": "gYudweEbeymB"
      }
    },
    {
      "cell_type": "code",
      "source": [
        "from detectron2.engine import DefaultTrainer\n",
        "\n",
        "EPOCHS = 1800\n",
        "NUM_CLASSES = 8\n",
        "BASE_LR = 0.001\n",
        "\n",
        "cfg = get_cfg()\n",
        "cfg.merge_from_file(model_zoo.get_config_file(\"COCO-Detection/faster_rcnn_X_101_32x8d_FPN_3x.yaml\"))\n",
        "cfg.DATASETS.TRAIN = (\"bone_fractures_train\")\n",
        "cfg.DATASETS.TEST = ()\n",
        "cfg.DATALOADER.NUM_WORKERS = 2\n",
        "cfg.MODEL.WEIGHTS = model_zoo.get_checkpoint_url(\"COCO-Detection/faster_rcnn_X_101_32x8d_FPN_3x.yaml\")\n",
        "cfg.SOLVER.IMS_PER_BATCH = 2\n",
        "cfg.SOLVER.BASE_LR = BASE_LR\n",
        "cfg.SOLVER.MAX_ITER = EPOCHS\n",
        "cfg.MODEL.ROI_HEADS.BATCH_SIZE_PER_IMAGE = 512\n",
        "cfg.MODEL.ROI_HEADS.NUM_CLASSES = NUM_CLASSES\n",
        "\n",
        "os.makedirs(cfg.OUTPUT_DIR, exist_ok=True)\n",
        "\n",
        "# uncomment below to train\n",
        "trainer = DefaultTrainer(cfg)\n",
        "trainer.resume_or_load(resume=False)\n",
        "trainer.train()"
      ],
      "metadata": {
        "execution": {
          "iopub.status.busy": "2024-01-14T10:51:09.826323Z",
          "iopub.execute_input": "2024-01-14T10:51:09.826947Z",
          "iopub.status.idle": "2024-01-14T11:25:31.903455Z",
          "shell.execute_reply.started": "2024-01-14T10:51:09.826908Z",
          "shell.execute_reply": "2024-01-14T11:25:31.902655Z"
        },
        "collapsed": true,
        "jupyter": {
          "outputs_hidden": true
        },
        "_kg_hide-output": true,
        "trusted": true,
        "id": "dSmvbx5ieymC"
      },
      "execution_count": null,
      "outputs": []
    },
    {
      "cell_type": "code",
      "source": [
        "# Saving the model\n",
        "\n",
        "cfg.MODEL.WEIGHTS = os.path.join(cfg.OUTPUT_DIR, \"model_final.pth\")\n",
        "cfg.MODEL.ROI_HEADS.SCORE_THRESH_TEST = THRESHOLD\n",
        "predictor = DefaultPredictor(cfg)\n",
        "\n",
        "import pickle\n",
        "with open(\"cfg.pkl\", \"wb\") as f:\n",
        "    pickle.dump(cfg, f)"
      ],
      "metadata": {
        "execution": {
          "iopub.status.busy": "2024-01-14T11:27:04.937184Z",
          "iopub.execute_input": "2024-01-14T11:27:04.938462Z",
          "iopub.status.idle": "2024-01-14T11:27:07.198927Z",
          "shell.execute_reply.started": "2024-01-14T11:27:04.938427Z",
          "shell.execute_reply": "2024-01-14T11:27:07.197809Z"
        },
        "trusted": true,
        "id": "l50NtArDeymC"
      },
      "execution_count": null,
      "outputs": []
    },
    {
      "cell_type": "markdown",
      "source": [
        "# <span style=\"color:#e74c3c;\">Faster R-CNN w/ResNeXt 101 FPN </span> Training Results"
      ],
      "metadata": {
        "id": "mm_GIphUeymC"
      }
    },
    {
      "cell_type": "code",
      "source": [
        "# original code from https://eidos-ai.medium.com/training-on-detectron2-with-a-validation-set-and-plot-loss-on-it-to-avoid-overfitting-6449418fbf4e\n",
        "\n",
        "def reading_metrics_from_json(metrics_path):\n",
        "    metrics = []\n",
        "\n",
        "    with open(metrics_path, 'r') as f:\n",
        "        for line in f:\n",
        "            metrics.append(json.loads(line))\n",
        "    return metrics\n",
        "\n",
        "\n",
        "def metric(metrics, specific_metric):\n",
        "    metric = []\n",
        "    for i in range(len(metrics)):\n",
        "        try:\n",
        "            metric.append(metrics[i][specific_metric])\n",
        "        except KeyError:\n",
        "            pass\n",
        "\n",
        "    return metric"
      ],
      "metadata": {
        "execution": {
          "iopub.status.busy": "2024-01-14T11:27:08.327907Z",
          "iopub.execute_input": "2024-01-14T11:27:08.328785Z",
          "iopub.status.idle": "2024-01-14T11:27:08.335021Z",
          "shell.execute_reply.started": "2024-01-14T11:27:08.328753Z",
          "shell.execute_reply": "2024-01-14T11:27:08.334005Z"
        },
        "trusted": true,
        "id": "UA48U0Z5eymD"
      },
      "execution_count": null,
      "outputs": []
    },
    {
      "cell_type": "code",
      "source": [
        "train_metrics = reading_metrics_from_json('/kaggle/working/output/metrics.json')\n",
        "\n",
        "total_loss = metric(train_metrics, 'total_loss')\n",
        "cls_acc = metric(train_metrics, 'fast_rcnn/cls_accuracy')\n",
        "false_neg = metric(train_metrics, 'fast_rcnn/false_negative')\n",
        "loss_box_reg = metric(train_metrics, 'loss_box_reg')\n",
        "iters = np.arange(1,EPOCHS,EPOCHS/len(total_loss))"
      ],
      "metadata": {
        "execution": {
          "iopub.status.busy": "2024-01-14T11:27:14.813855Z",
          "iopub.execute_input": "2024-01-14T11:27:14.814725Z",
          "iopub.status.idle": "2024-01-14T11:27:14.822443Z",
          "shell.execute_reply.started": "2024-01-14T11:27:14.814694Z",
          "shell.execute_reply": "2024-01-14T11:27:14.82142Z"
        },
        "trusted": true,
        "id": "ciujD6B1eymD"
      },
      "execution_count": null,
      "outputs": []
    },
    {
      "cell_type": "code",
      "source": [
        "fig, axs = plt.subplots(1,4, figsize = (17, 4), dpi = 120)\n",
        "fig.suptitle('Faster R-CNN w/ResNeXt 101 FPN', color = 'blue', fontsize=15,  style = \"italic\")\n",
        "\n",
        "axs[0].grid(linestyle = 'dashdot')\n",
        "axs[0].plot(iters, loss_box_reg)\n",
        "axs[0].set_xlabel('epochs', fontsize = 10)\n",
        "axs[0].set_title('Loss Box Regression', fontsize = 10)\n",
        "tit0 = ' (the last value {0:.4f})'.format(loss_box_reg[-1])\n",
        "axs[0].set_title('Loss Box Regression ' + tit0, fontsize = 10, color = 'red')\n",
        "\n",
        "axs[1].grid(linestyle = 'dashdot')\n",
        "axs[1].plot(iters, cls_acc)\n",
        "axs[1].set_xlabel('epochs', fontsize = 10)\n",
        "tit1 = ' (the last value {0:.3f})'.format(cls_acc[-1])\n",
        "axs[1].set_title('Class Accuracy ' + tit1, fontsize = 10, color = 'red')\n",
        "\n",
        "axs[2].grid(linestyle = 'dashdot')\n",
        "axs[2].plot(iters, total_loss)\n",
        "axs[2].set_xlabel('epochs', fontsize = 10)\n",
        "tit2 = ' (the last value {0:.4f})'.format(total_loss[-1])\n",
        "axs[2].set_title('Total Loss ' + tit2, fontsize = 10, color = 'red')\n",
        "\n",
        "axs[3].grid(linestyle = 'dashdot')\n",
        "axs[3].plot(iters, false_neg)\n",
        "axs[3].set_xlabel('epochs', fontsize = 10)\n",
        "axs[3].set_title('False Negative', fontsize = 10, color = 'red')"
      ],
      "metadata": {
        "execution": {
          "iopub.status.busy": "2024-01-14T11:27:17.058499Z",
          "iopub.execute_input": "2024-01-14T11:27:17.059316Z",
          "iopub.status.idle": "2024-01-14T11:27:18.042256Z",
          "shell.execute_reply.started": "2024-01-14T11:27:17.059279Z",
          "shell.execute_reply": "2024-01-14T11:27:18.04132Z"
        },
        "collapsed": true,
        "jupyter": {
          "outputs_hidden": true
        },
        "trusted": true,
        "id": "0u6n3wmseymE"
      },
      "execution_count": null,
      "outputs": []
    },
    {
      "cell_type": "markdown",
      "source": [
        "# <span style=\"color:#e74c3c;\">Faster R-CNN w/ResNeXt 101 FPN </span> Test Results"
      ],
      "metadata": {
        "id": "Z8kF5rwZeymE"
      }
    },
    {
      "cell_type": "code",
      "source": [
        "from detectron2.evaluation import COCOEvaluator, inference_on_dataset\n",
        "from detectron2.data import build_detection_test_loader\n",
        "evaluator = COCOEvaluator(\"bone_fractures_test\", False, output_dir=\"./output/\")\n",
        "test_loader = build_detection_test_loader(cfg, \"bone_fractures_test\")\n",
        "inference_on_dataset(trainer.model, test_loader, evaluator)"
      ],
      "metadata": {
        "execution": {
          "iopub.status.busy": "2024-01-14T11:35:37.102182Z",
          "iopub.execute_input": "2024-01-14T11:35:37.103212Z",
          "iopub.status.idle": "2024-01-14T11:36:01.380384Z",
          "shell.execute_reply.started": "2024-01-14T11:35:37.103173Z",
          "shell.execute_reply": "2024-01-14T11:36:01.3794Z"
        },
        "collapsed": true,
        "jupyter": {
          "outputs_hidden": true
        },
        "trusted": true,
        "id": "eTpJK7vbeymE"
      },
      "execution_count": null,
      "outputs": []
    },
    {
      "cell_type": "markdown",
      "source": [
        "# <span style=\"color:#e74c3c;\">Faster R-CNN w/ResNeXt 101 FPN </span> Test Predictions"
      ],
      "metadata": {
        "id": "yu_0Dm8ReymE"
      }
    },
    {
      "cell_type": "code",
      "source": [
        "my_dataset_test_metadata = MetadataCatalog.get(\"bone_fractures_test\")\n",
        "from detectron2.utils.visualizer import ColorMode\n",
        "dataset_dicts = DatasetCatalog.get(\"bone_fractures_test\")\n",
        "\n",
        "\n",
        "# A function for plotting an original image's bbox and predicted bbox\n",
        "def create_predictions(dataset_dict, dataset_metadata, seed, image_scale = 0.8):\n",
        "    np.random.seed(seed=seed)\n",
        "    images = np.random.permutation(dataset_dict)[:3]\n",
        "\n",
        "    fig, axs = plt.subplots(3,2, figsize = (10,15), dpi = 200)\n",
        "\n",
        "    for i in range(3):\n",
        "        im = images[i]\n",
        "        img_link = im['file_name']\n",
        "        img_id = im['image_id']\n",
        "        img = cv2.imread(img_link)\n",
        "        img = cv2.cvtColor(img,cv2.COLOR_BGR2RGB)\n",
        "        visualizer1 = Visualizer(img, metadata= dataset_metadata, scale=image_scale)\n",
        "\n",
        "        vis_original = visualizer1.draw_dataset_dict(im)\n",
        "        original_bbox = vis_original.get_image()\n",
        "\n",
        "        visualizer2 = Visualizer(img, metadata= dataset_metadata, scale=image_scale)\n",
        "        outputs = predictor(img)\n",
        "        out = visualizer2.draw_instance_predictions(outputs[\"instances\"].to(\"cpu\"))\n",
        "        out_img = cv2.cvtColor(out.get_image(), cv2.COLOR_BGR2RGB)\n",
        "        final_bbox = cv2.cvtColor(out_img, cv2.COLOR_BGR2RGB)\n",
        "\n",
        "        axs[i][0].set_title('original bbox (id: ' + str(img_id) +')', fontsize = 8)\n",
        "        axs[i][0].axis('off')\n",
        "        axs[i][0].imshow(original_bbox)\n",
        "\n",
        "        axs[i][1].set_title('predicted bbox (id: ' + str(img_id) +')', fontsize = 8)\n",
        "        axs[i][1].axis('off')\n",
        "        axs[i][1].imshow(final_bbox)"
      ],
      "metadata": {
        "execution": {
          "iopub.status.busy": "2024-01-14T11:36:01.382626Z",
          "iopub.execute_input": "2024-01-14T11:36:01.382921Z",
          "iopub.status.idle": "2024-01-14T11:36:01.399984Z",
          "shell.execute_reply.started": "2024-01-14T11:36:01.382893Z",
          "shell.execute_reply": "2024-01-14T11:36:01.39909Z"
        },
        "trusted": true,
        "id": "52ICVwWZeymE"
      },
      "execution_count": null,
      "outputs": []
    },
    {
      "cell_type": "code",
      "source": [
        "create_predictions(dataset_dicts,my_dataset_test_metadata,seed = 3, image_scale=1)\n",
        "create_predictions(dataset_dicts,my_dataset_test_metadata,seed = 93, image_scale=1)\n",
        "create_predictions(dataset_dicts,my_dataset_test_metadata,seed = 643, image_scale=1)"
      ],
      "metadata": {
        "execution": {
          "iopub.status.busy": "2024-01-14T11:36:01.401214Z",
          "iopub.execute_input": "2024-01-14T11:36:01.401583Z",
          "iopub.status.idle": "2024-01-14T11:36:05.767832Z",
          "shell.execute_reply.started": "2024-01-14T11:36:01.401537Z",
          "shell.execute_reply": "2024-01-14T11:36:05.766891Z"
        },
        "collapsed": true,
        "jupyter": {
          "outputs_hidden": true
        },
        "trusted": true,
        "id": "Fm04pCVkeymE"
      },
      "execution_count": null,
      "outputs": []
    },
    {
      "cell_type": "markdown",
      "source": [
        "# <span style=\"color:#e74c3c;\">Faster R-CNN w/ResNet-50 FPN </span> Model, Training"
      ],
      "metadata": {
        "id": "StGcx_boeymE"
      }
    },
    {
      "cell_type": "code",
      "source": [
        "from detectron2.engine import DefaultTrainer\n",
        "\n",
        "EPOCHS = 2500\n",
        "NUM_CLASSES = 8\n",
        "BASE_LR = 0.001\n",
        "\n",
        "cfg = get_cfg()\n",
        "cfg.merge_from_file(model_zoo.get_config_file(\"COCO-Detection/faster_rcnn_R_50_FPN_3x.yaml\"))\n",
        "cfg.DATASETS.TRAIN = (\"bone_fractures_train\")\n",
        "cfg.DATASETS.TEST = ()\n",
        "cfg.DATALOADER.NUM_WORKERS = 2\n",
        "cfg.MODEL.WEIGHTS = model_zoo.get_checkpoint_url(\"COCO-Detection/faster_rcnn_R_50_FPN_3x.yaml\")\n",
        "cfg.SOLVER.IMS_PER_BATCH = 2\n",
        "cfg.SOLVER.BASE_LR = BASE_LR\n",
        "cfg.SOLVER.MAX_ITER = EPOCHS\n",
        "cfg.MODEL.ROI_HEADS.BATCH_SIZE_PER_IMAGE = 512\n",
        "cfg.MODEL.ROI_HEADS.NUM_CLASSES = NUM_CLASSES\n",
        "\n",
        "os.makedirs(cfg.OUTPUT_DIR, exist_ok=True)\n",
        "\n",
        "# uncomment below to train\n",
        "trainer = DefaultTrainer(cfg)\n",
        "trainer.resume_or_load(resume=False)\n",
        "trainer.train()"
      ],
      "metadata": {
        "_kg_hide-output": true,
        "id": "fZz06r-deymF"
      },
      "execution_count": null,
      "outputs": []
    },
    {
      "cell_type": "code",
      "source": [
        "# Saving the model\n",
        "\n",
        "cfg.MODEL.WEIGHTS = os.path.join(cfg.OUTPUT_DIR, \"model_final.pth\")\n",
        "cfg.MODEL.ROI_HEADS.SCORE_THRESH_TEST = THRESHOLD\n",
        "predictor = DefaultPredictor(cfg)\n",
        "\n",
        "import pickle\n",
        "with open(\"cfg.pkl\", \"wb\") as f:\n",
        "    pickle.dump(cfg, f)"
      ],
      "metadata": {
        "execution": {
          "iopub.status.busy": "2024-01-14T11:39:18.537594Z",
          "iopub.execute_input": "2024-01-14T11:39:18.538469Z",
          "iopub.status.idle": "2024-01-14T11:39:21.245322Z",
          "shell.execute_reply.started": "2024-01-14T11:39:18.538426Z",
          "shell.execute_reply": "2024-01-14T11:39:21.244373Z"
        },
        "trusted": true,
        "id": "4sQQc4emeymF"
      },
      "execution_count": null,
      "outputs": []
    },
    {
      "cell_type": "markdown",
      "source": [
        "# <span style=\"color:#e74c3c;\">Faster R-CNN w/ResNet-50 FPN </span> Training Results"
      ],
      "metadata": {
        "id": "PfdylRQaeymF"
      }
    },
    {
      "cell_type": "code",
      "source": [
        "# original code from https://eidos-ai.medium.com/training-on-detectron2-with-a-validation-set-and-plot-loss-on-it-to-avoid-overfitting-6449418fbf4e\n",
        "\n",
        "def reading_metrics_from_json(metrics_path):\n",
        "    metrics = []\n",
        "\n",
        "    with open(metrics_path, 'r') as f:\n",
        "        for line in f:\n",
        "            metrics.append(json.loads(line))\n",
        "    return metrics\n",
        "\n",
        "\n",
        "def metric(metrics, specific_metric):\n",
        "    metric = []\n",
        "    for i in range(len(metrics)):\n",
        "        try:\n",
        "            metric.append(metrics[i][specific_metric])\n",
        "        except KeyError:\n",
        "            pass\n",
        "\n",
        "    return metric"
      ],
      "metadata": {
        "id": "E_oFXDueeymF"
      },
      "execution_count": null,
      "outputs": []
    },
    {
      "cell_type": "code",
      "source": [
        "train_metrics = reading_metrics_from_json('/kaggle/working/output/metrics.json')\n",
        "\n",
        "total_loss = metric(train_metrics, 'total_loss')\n",
        "cls_acc = metric(train_metrics, 'fast_rcnn/cls_accuracy')\n",
        "false_neg = metric(train_metrics, 'fast_rcnn/false_negative')\n",
        "loss_box_reg = metric(train_metrics, 'loss_box_reg')\n",
        "iters = np.arange(1,EPOCHS,EPOCHS/len(total_loss))"
      ],
      "metadata": {
        "id": "o7vcg7kPeymF"
      },
      "execution_count": null,
      "outputs": []
    },
    {
      "cell_type": "code",
      "source": [
        "fig, axs = plt.subplots(1,4, figsize = (17, 4), dpi = 120)\n",
        "\n",
        "fig.suptitle('Faster R-CNN w/ResNet-50 FPN Training Results', color = 'blue', fontsize=15,  style = \"italic\")\n",
        "\n",
        "axs[0].grid(linestyle = 'dashdot')\n",
        "axs[0].plot(iters, loss_box_reg)\n",
        "axs[0].set_xlabel('epochs', fontsize = 10)\n",
        "axs[0].set_title('Loss Box Regression', fontsize = 10)\n",
        "tit0 = ' (the last value {0:.4f})'.format(loss_box_reg[-1])\n",
        "axs[0].set_title('Loss Box Regression ' + tit0, fontsize = 10, color = 'red')\n",
        "\n",
        "axs[1].grid(linestyle = 'dashdot')\n",
        "axs[1].plot(iters, cls_acc)\n",
        "axs[1].set_xlabel('epochs', fontsize = 10)\n",
        "tit1 = ' (the last value {0:.3f})'.format(cls_acc[-1])\n",
        "axs[1].set_title('Class Accuracy ' + tit1, fontsize = 10, color = 'red')\n",
        "\n",
        "axs[2].grid(linestyle = 'dashdot')\n",
        "axs[2].plot(iters, total_loss)\n",
        "axs[2].set_xlabel('epochs', fontsize = 10)\n",
        "tit2 = ' (the last value {0:.4f})'.format(total_loss[-1])\n",
        "axs[2].set_title('Total Loss ' + tit2, fontsize = 10, color = 'red')\n",
        "\n",
        "axs[3].grid(linestyle = 'dashdot')\n",
        "axs[3].plot(iters, false_neg)\n",
        "axs[3].set_xlabel('epochs', fontsize = 10)\n",
        "axs[3].set_title('False Negative', fontsize = 10, color = 'red')"
      ],
      "metadata": {
        "id": "atOYejddeymF"
      },
      "execution_count": null,
      "outputs": []
    },
    {
      "cell_type": "markdown",
      "source": [
        "# <span style=\"color:#e74c3c;\">Faster R-CNN w/ResNet-50 FPN </span> Test Results"
      ],
      "metadata": {
        "id": "FukH_OaheymF"
      }
    },
    {
      "cell_type": "code",
      "source": [
        "from detectron2.evaluation import COCOEvaluator, inference_on_dataset\n",
        "from detectron2.data import build_detection_test_loader\n",
        "evaluator = COCOEvaluator(\"bone_fractures_test\", False, output_dir=\"./output/\")\n",
        "test_loader = build_detection_test_loader(cfg, \"bone_fractures_test\")\n",
        "inference_on_dataset(trainer.model, test_loader, evaluator)"
      ],
      "metadata": {
        "id": "DOPzb8FOeymG"
      },
      "execution_count": null,
      "outputs": []
    },
    {
      "cell_type": "markdown",
      "source": [
        "# <span style=\"color:#e74c3c;\">Faster R-CNN w/ResNet-50 FPN </span> Test Predictions"
      ],
      "metadata": {
        "id": "lpBqrd71eymG"
      }
    },
    {
      "cell_type": "code",
      "source": [
        "my_dataset_test_metadata = MetadataCatalog.get(\"bone_fractures_test\")\n",
        "from detectron2.utils.visualizer import ColorMode\n",
        "dataset_dicts = DatasetCatalog.get(\"bone_fractures_test\")\n",
        "\n",
        "\n",
        "# A function for plotting an original image's bbox and predicted bbox\n",
        "def create_predictions(dataset_dict, dataset_metadata, seed, image_scale = 0.8):\n",
        "    np.random.seed(seed=seed)\n",
        "    images = np.random.permutation(dataset_dict)[:3]\n",
        "\n",
        "    fig, axs = plt.subplots(3,2, figsize = (10,15), dpi = 200)\n",
        "\n",
        "    for i in range(3):\n",
        "        im = images[i]\n",
        "        img_link = im['file_name']\n",
        "        img_id = im['image_id']\n",
        "        img = cv2.imread(img_link)\n",
        "        img = cv2.cvtColor(img,cv2.COLOR_BGR2RGB)\n",
        "        visualizer1 = Visualizer(img, metadata= dataset_metadata, scale=image_scale)\n",
        "\n",
        "        vis_original = visualizer1.draw_dataset_dict(im)\n",
        "        original_bbox = vis_original.get_image()\n",
        "\n",
        "        visualizer2 = Visualizer(img, metadata= dataset_metadata, scale=image_scale)\n",
        "        outputs = predictor(img)\n",
        "        out = visualizer2.draw_instance_predictions(outputs[\"instances\"].to(\"cpu\"))\n",
        "        out_img = cv2.cvtColor(out.get_image(), cv2.COLOR_BGR2RGB)\n",
        "        final_bbox = cv2.cvtColor(out_img, cv2.COLOR_BGR2RGB)\n",
        "\n",
        "        axs[i][0].set_title('original bbox (id: ' + str(img_id) +')', fontsize = 8)\n",
        "        axs[i][0].axis('off')\n",
        "        axs[i][0].imshow(original_bbox)\n",
        "\n",
        "        axs[i][1].set_title('predicted bbox (id: ' + str(img_id) +')', fontsize = 8)\n",
        "        axs[i][1].axis('off')\n",
        "        axs[i][1].imshow(final_bbox)"
      ],
      "metadata": {
        "id": "ORntkcIleymG"
      },
      "execution_count": null,
      "outputs": []
    },
    {
      "cell_type": "code",
      "source": [
        "create_predictions(dataset_dicts,my_dataset_test_metadata,seed = 3, image_scale=1)\n",
        "create_predictions(dataset_dicts,my_dataset_test_metadata,seed = 93, image_scale=1)\n",
        "create_predictions(dataset_dicts,my_dataset_test_metadata,seed = 643, image_scale=1)"
      ],
      "metadata": {
        "id": "F768cYpreymG"
      },
      "execution_count": null,
      "outputs": []
    }
  ]
}